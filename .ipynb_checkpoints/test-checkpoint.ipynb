{
 "cells": [
  {
   "cell_type": "code",
   "execution_count": 3,
   "metadata": {},
   "outputs": [
    {
     "name": "stdout",
     "output_type": "stream",
     "text": [
      "before, outer_list = ['one', 'two', 'three']\n",
      "got ['one', 'two', 'three']\n",
      "changed to ['one', 'two', 'three', 'four']\n",
      "after, outer_list = ['one', 'two', 'three', 'four']\n"
     ]
    }
   ],
   "source": [
    "def try_to_change_list_contents(the_list):\n",
    "    print('got', the_list)\n",
    "    the_list.append('four')\n",
    "#     the_list = \"fuck\"\n",
    "    print('changed to', the_list)\n",
    "\n",
    "outer_list = ['one', 'two', 'three']\n",
    "\n",
    "print('before, outer_list =', outer_list)\n",
    "try_to_change_list_contents(outer_list)\n",
    "print('after, outer_list =', outer_list)\n"
   ]
  },
  {
   "cell_type": "code",
   "execution_count": 2,
   "metadata": {},
   "outputs": [
    {
     "name": "stdout",
     "output_type": "stream",
     "text": [
      "before, outer_string = It was many and many a year ago\n",
      "got It was many and many a year ago\n",
      "set to It was many and many a year ago_fuck\n",
      "after, outer_string = It was many and many a year ago\n"
     ]
    }
   ],
   "source": [
    "def try_to_change_string_reference(the_string):\n",
    "    print('got', the_string)\n",
    "#     the_string = 'In a kingdom by the sea'\n",
    "    the_string += \"_fuck\"\n",
    "    print('set to', the_string)\n",
    "\n",
    "outer_string = 'It was many and many a year ago'\n",
    "\n",
    "print('before, outer_string =', outer_string)\n",
    "try_to_change_string_reference(outer_string)\n",
    "print('after, outer_string =', outer_string)"
   ]
  },
  {
   "cell_type": "code",
   "execution_count": 4,
   "metadata": {},
   "outputs": [
    {
     "name": "stdout",
     "output_type": "stream",
     "text": [
      "[0, 1] [0, 1]\n"
     ]
    }
   ],
   "source": [
    "# x and y are objects\n",
    "# object references are passed\n",
    "x = [0] # x is a reference to [0]\n",
    "y = x # y is a reference to [0]\n",
    "x.append(1)\n",
    "print(x, y)"
   ]
  },
  {
   "cell_type": "code",
   "execution_count": 9,
   "metadata": {},
   "outputs": [
    {
     "name": "stdout",
     "output_type": "stream",
     "text": [
      "0 1\n"
     ]
    }
   ],
   "source": [
    "# x and y are variables\n",
    "# variable references are passed\n",
    "x=0 # x is a reference to 0\n",
    "y=x # y is a reference to 0\n",
    "y = x+1 # By doing \"=\", a new memory address is assigned\n",
    "# Now, x is a reference to the solution of x+1\n",
    "# x is still a reference to 0\n",
    "print(x, y)"
   ]
  },
  {
   "cell_type": "code",
   "execution_count": 8,
   "metadata": {},
   "outputs": [
    {
     "name": "stdout",
     "output_type": "stream",
     "text": [
      "[0, 1, 2, 3, 4] [9, 1, 2]\n",
      "[9, 1, 2, 3, 4] [0, 1, 2]\n"
     ]
    }
   ],
   "source": [
    "# Python is a Pass-By-Reference Language\n",
    "# C, on the other hand, is a Pass-By Variable Language\n",
    "# Slices create new variables, and therefore have separate references \n",
    "x = [0, 1, 2, 3, 4] # x is a reference to [0, 1, 2, 3, 4]\n",
    "y = x[:3] # y is a reference to [0, 1, 2]\n",
    "\n",
    "y[0] = 9\n",
    "print(x, y)"
   ]
  },
  {
   "cell_type": "code",
   "execution_count": 11,
   "metadata": {},
   "outputs": [
    {
     "name": "stdout",
     "output_type": "stream",
     "text": [
      "1\n",
      "0 0\n"
     ]
    }
   ],
   "source": []
  },
  {
   "cell_type": "code",
   "execution_count": null,
   "metadata": {},
   "outputs": [],
   "source": []
  }
 ],
 "metadata": {
  "kernelspec": {
   "display_name": "Python 3",
   "language": "python",
   "name": "python3"
  },
  "language_info": {
   "codemirror_mode": {
    "name": "ipython",
    "version": 3
   },
   "file_extension": ".py",
   "mimetype": "text/x-python",
   "name": "python",
   "nbconvert_exporter": "python",
   "pygments_lexer": "ipython3",
   "version": "3.6.6"
  }
 },
 "nbformat": 4,
 "nbformat_minor": 2
}
